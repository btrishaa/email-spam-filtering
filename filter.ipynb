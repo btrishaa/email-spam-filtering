{
 "cells": [
  {
   "cell_type": "code",
   "execution_count": 1,
   "metadata": {},
   "outputs": [],
   "source": [
    "import os\n",
    "import numpy as np\n",
    "import re\n",
    "from sklearn.naive_bayes import MultinomialNB\n",
    "import pandas as pd"
   ]
  },
  {
   "cell_type": "code",
   "execution_count": 2,
   "metadata": {},
   "outputs": [],
   "source": [
    "# Creates dictionary from all the emails in the directory\n",
    "def build_dictionary(dir):\n",
    "  # Read the file names\n",
    "  emails = os.listdir(dir)\n",
    "  emails.sort()\n",
    "  # Array to hold all the words in the emails\n",
    "  dictionary = []\n",
    "\n",
    "  # Collecting all words from those emails\n",
    "  for email in emails:\n",
    "    m = open(os.path.join(dir, email))\n",
    "    for i, line in enumerate(m):\n",
    "      if i == 2: # Body of email is only 3rd line of text file\n",
    "        words = line.split()\n",
    "        dictionary += words\n",
    "\n",
    "  # We now have the array of words, whoch may have duplicate entries\n",
    "  dictionary = list(set(dictionary)) # Removes duplicates\n",
    "\n",
    "  # Removes puctuations and non alphabets\n",
    "  for index, word in enumerate(dictionary):\n",
    "    if (word.isalpha() == False) or (len(word) == 1):\n",
    "      del dictionary[index]\n",
    "\n",
    "  return dictionary\n"
   ]
  },
  {
   "cell_type": "code",
   "execution_count": 3,
   "metadata": {},
   "outputs": [],
   "source": [
    "def build_features(dir, dictionary):\n",
    "  # Read the file names\n",
    "  emails = os.listdir(dir)\n",
    "  emails.sort()\n",
    "  # ndarray to have the features\n",
    "  features_matrix = np.zeros((len(emails), len(dictionary)))\n",
    "\n",
    "  # collecting the number of occurances of each of the words in the emails\n",
    "  for email_index, email in enumerate(emails):\n",
    "    m = open(os.path.join(dir, email))\n",
    "    for line_index, line in enumerate(m):\n",
    "      if line_index == 2:\n",
    "        words = line.split()\n",
    "        for word_index, word in enumerate(dictionary):\n",
    "          features_matrix[email_index, word_index] = words.count(word)\n",
    "\n",
    "  return features_matrix"
   ]
  },
  {
   "cell_type": "code",
   "execution_count": 4,
   "metadata": {},
   "outputs": [],
   "source": [
    "def build_labels(dir):\n",
    "  # Read the file names\n",
    "  emails = os.listdir(dir)\n",
    "  emails.sort()\n",
    "  # ndarray of labels\n",
    "  labels_matrix = np.zeros(len(emails))\n",
    "\n",
    "  for index, email in enumerate(emails):\n",
    "    labels_matrix[index] = 1 if re.search('spms*', email) else 0\n",
    "\n",
    "  return labels_matrix"
   ]
  },
  {
   "cell_type": "code",
   "execution_count": 5,
   "metadata": {},
   "outputs": [
    {
     "name": "stdout",
     "output_type": "stream",
     "text": [
      "1. Building dictionary\n"
     ]
    }
   ],
   "source": [
    "train_dir = './train_data'\n",
    "print('1. Building dictionary')\n",
    "dictionary = build_dictionary(train_dir)"
   ]
  },
  {
   "cell_type": "code",
   "execution_count": 6,
   "metadata": {},
   "outputs": [
    {
     "name": "stdout",
     "output_type": "stream",
     "text": [
      "2. Building training features and labels\n"
     ]
    }
   ],
   "source": [
    "print('2. Building training features and labels')\n",
    "features_train = build_features(train_dir, dictionary)\n",
    "labels_train = build_labels(train_dir)\n"
   ]
  },
  {
   "cell_type": "code",
   "execution_count": 7,
   "metadata": {},
   "outputs": [
    {
     "name": "stdout",
     "output_type": "stream",
     "text": [
      "3. Training the classifier\n"
     ]
    },
    {
     "data": {
      "text/plain": [
       "MultinomialNB()"
      ]
     },
     "execution_count": 7,
     "metadata": {},
     "output_type": "execute_result"
    }
   ],
   "source": [
    "classifier = MultinomialNB()\n",
    "print('3. Training the classifier')\n",
    "classifier.fit(features_train, labels_train)"
   ]
  },
  {
   "cell_type": "code",
   "execution_count": 8,
   "metadata": {},
   "outputs": [
    {
     "name": "stdout",
     "output_type": "stream",
     "text": [
      "4. Building the test features and labels\n"
     ]
    }
   ],
   "source": [
    "test_dir = './test_data'\n",
    "print('4. Building the test features and labels')\n",
    "features_test = build_features(test_dir, dictionary)\n",
    "labels_test = build_labels(test_dir)"
   ]
  },
  {
   "cell_type": "code",
   "execution_count": 9,
   "metadata": {},
   "outputs": [
    {
     "name": "stdout",
     "output_type": "stream",
     "text": [
      "5. Calculating accuracy of the trained classifier\n",
      "1.0\n"
     ]
    }
   ],
   "source": [
    "print('5. Calculating accuracy of the trained classifier')\n",
    "accuracy = classifier.score(features_test, labels_test)\n",
    "print (accuracy)"
   ]
  },
  {
   "cell_type": "code",
   "execution_count": null,
   "metadata": {},
   "outputs": [],
   "source": []
  }
 ],
 "metadata": {
  "kernelspec": {
   "display_name": "Python 3",
   "language": "python",
   "name": "python3"
  },
  "language_info": {
   "codemirror_mode": {
    "name": "ipython",
    "version": 3
   },
   "file_extension": ".py",
   "mimetype": "text/x-python",
   "name": "python",
   "nbconvert_exporter": "python",
   "pygments_lexer": "ipython3",
   "version": "3.8.5"
  }
 },
 "nbformat": 4,
 "nbformat_minor": 4
}
